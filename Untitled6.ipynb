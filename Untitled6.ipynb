{
 "cells": [
  {
   "cell_type": "code",
   "execution_count": 12,
   "id": "f816c22f-d5c4-43a6-8a8d-0e912dba203c",
   "metadata": {},
   "outputs": [
    {
     "name": "stdout",
     "output_type": "stream",
     "text": [
      "Requirement already satisfied: pandas in c:\\users\\hp\\anaconda3\\lib\\site-packages (2.2.2)\n",
      "Requirement already satisfied: numpy in c:\\users\\hp\\anaconda3\\lib\\site-packages (1.26.4)\n",
      "Requirement already satisfied: python-dateutil>=2.8.2 in c:\\users\\hp\\anaconda3\\lib\\site-packages (from pandas) (2.9.0.post0)\n",
      "Requirement already satisfied: pytz>=2020.1 in c:\\users\\hp\\anaconda3\\lib\\site-packages (from pandas) (2024.1)\n",
      "Requirement already satisfied: tzdata>=2022.7 in c:\\users\\hp\\anaconda3\\lib\\site-packages (from pandas) (2023.3)\n",
      "Requirement already satisfied: six>=1.5 in c:\\users\\hp\\anaconda3\\lib\\site-packages (from python-dateutil>=2.8.2->pandas) (1.16.0)\n",
      "Requirement already satisfied: lxml in c:\\users\\hp\\anaconda3\\lib\\site-packages (5.2.1)\n",
      "           Country  GDP (Billion USD)\n",
      "1    United States           26854.60\n",
      "2            China           19373.59\n",
      "3            Japan            4409.74\n",
      "4          Germany            4308.85\n",
      "5            India            3736.88\n",
      "6   United Kingdom            3158.94\n",
      "7           France            2923.49\n",
      "8            Italy            2169.74\n",
      "9           Canada            2089.67\n",
      "10          Brazil            2081.24\n"
     ]
    }
   ],
   "source": [
    "!pip install pandas numpy\n",
    "!pip install lxml\n",
    "import numpy as np\n",
    "import pandas as pd\n",
    "def warn(*args,**kwargs):\n",
    "    pass\n",
    "import warnings\n",
    "warnings.warn=warn\n",
    "warnings.filterwarnings('ignore')\n",
    "URL=\"https://web.archive.org/web/20230902185326/https://en.wikipedia.org/wiki/List_of_countries_by_GDP_%28nominal%29\"\n",
    "tables=pd.read_html(URL)\n",
    "df=tables[3]\n",
    "\n",
    "df.columns=range(df.shape[1])\n",
    "df=df[[0,2]]\n",
    "df=df.iloc[1:11,:]\n",
    "df.columns=['Country','GDP (Million USD)']\n",
    "df['GDP (Million USD)']=df['GDP (Million USD)'].astype(int)\n",
    "df[['GDP (Million USD)']]=df[['GDP (Million USD)']]/1000\n",
    "df[['GDP (Million USD)']]=np.round(df[['GDP (Million USD)']],2)\n",
    "df = df.rename(columns={'GDP (Million USD)' : 'GDP (Billion USD)'}) \n",
    "df.to_csv('./Largest_economies.csv') \n",
    "print(df)"
   ]
  },
  {
   "cell_type": "code",
   "execution_count": null,
   "id": "8b9827e4-f046-4ca6-bdf7-ef587e83548c",
   "metadata": {},
   "outputs": [],
   "source": []
  },
  {
   "cell_type": "code",
   "execution_count": null,
   "id": "0eeb0519-0dff-46eb-a449-57bd322ee525",
   "metadata": {},
   "outputs": [],
   "source": []
  },
  {
   "cell_type": "code",
   "execution_count": null,
   "id": "dac6bf56-0720-4a51-b79b-1cd1eeda217c",
   "metadata": {},
   "outputs": [],
   "source": []
  }
 ],
 "metadata": {
  "kernelspec": {
   "display_name": "Python [conda env:base] *",
   "language": "python",
   "name": "conda-base-py"
  },
  "language_info": {
   "codemirror_mode": {
    "name": "ipython",
    "version": 3
   },
   "file_extension": ".py",
   "mimetype": "text/x-python",
   "name": "python",
   "nbconvert_exporter": "python",
   "pygments_lexer": "ipython3",
   "version": "3.12.7"
  }
 },
 "nbformat": 4,
 "nbformat_minor": 5
}
